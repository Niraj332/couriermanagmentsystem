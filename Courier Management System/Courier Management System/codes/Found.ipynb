{
 "cells": [
  {
   "cell_type": "code",
   "execution_count": 35,
   "metadata": {},
   "outputs": [],
   "source": [
    "from tkinter import*\n",
    "import mysql.connector\n",
    "from tkinter import messagebox\n",
    "from PIL import ImageTk,Image\n",
    "mydb=mysql.connector.connect(host='localhost',user='root',password='Shivam@2025',database='courier')\n",
    "cur=mydb.cursor()\n",
    "root=Tk()\n",
    "root.title(\"Welcome to Courier Management System\")\n",
    "image2 =Image.open('C:/Users/HP USER/Desktop/courierboy.jpg')\n",
    "image1 = ImageTk.PhotoImage(image2)\n",
    "w = image1.width()\n",
    "h = image1.height()\n",
    "root.geometry('%dx%d+0+0' % (w,h)) \n",
    "label1 = Label(root, image=image1)\n",
    "label1.pack()\n",
    "#root.geometry(\"1199x600+100+50\")\n",
    "def go_to_Track():\n",
    "    root.destroy()\n",
    "    import CMS\n",
    "Found=Frame(root,bg='white')\n",
    "Found.place(x=100,y=150,height=400,width=1200)\n",
    "Label(Found,text='Your Order is at Location X',font=(\"new times roman\",40,'bold'),bg=\"yellow\",fg='red').place(x=75,y=25,width=1000)\n",
    "Label(Found,text='It is expected to reach by a/b/2020.',bg='pink',font=(\"Impact\",12,'roman')).place(x=75,y=170,width=1000)\n",
    "Label(Found,text='Thank you for using our courier service.',bg='lightgray',font=(\"Impact\",12,'roman')).place(x=150,y=210,width=800)\n",
    "Button(Found,text='Go to CMS',bg='red',font=(\"Impact\",12,'roman'),command=go_to_Track).place(x=500,y=270,width=110)\n",
    "root.mainloop()"
   ]
  },
  {
   "cell_type": "code",
   "execution_count": null,
   "metadata": {},
   "outputs": [],
   "source": []
  },
  {
   "cell_type": "code",
   "execution_count": null,
   "metadata": {},
   "outputs": [],
   "source": []
  }
 ],
 "metadata": {
  "kernelspec": {
   "display_name": "Python 3",
   "language": "python",
   "name": "python3"
  },
  "language_info": {
   "codemirror_mode": {
    "name": "ipython",
    "version": 3
   },
   "file_extension": ".py",
   "mimetype": "text/x-python",
   "name": "python",
   "nbconvert_exporter": "python",
   "pygments_lexer": "ipython3",
   "version": "3.8.3"
  }
 },
 "nbformat": 4,
 "nbformat_minor": 4
}
