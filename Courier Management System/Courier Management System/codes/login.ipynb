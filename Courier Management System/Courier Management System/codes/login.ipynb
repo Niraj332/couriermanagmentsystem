{
 "cells": [
  {
   "cell_type": "code",
   "execution_count": 1,
   "metadata": {},
   "outputs": [
    {
     "data": {
      "text/plain": [
       "'ok'"
      ]
     },
     "execution_count": 1,
     "metadata": {},
     "output_type": "execute_result"
    }
   ],
   "source": [
    "from tkinter import*\n",
    "import mysql.connector\n",
    "from tkinter import messagebox\n",
    "from PIL import ImageTk,Image\n",
    "mydb=mysql.connector.connect(host='localhost',user='root',password='Shivam@2025',database='courier')\n",
    "cur=mydb.cursor()\n",
    "def view():\n",
    "  cur.execute(\"select * from customer where RegistrationNo=%s and Password=%s\",(RegistrationNo.get(),Password.get()))\n",
    "  row=cur.fetchone()\n",
    "  #print(row)\n",
    "  if row==None:\n",
    "      messagebox.showerror('error','please enter right username and password')\n",
    "  else:\n",
    "      messagebox.showinfo('Welcome','Login successfully ')\n",
    "#cREATING GUI\n",
    "master=Tk()\n",
    "#background image and tittle for full window\n",
    "master.title(\"Welcome\")\n",
    "image2 =Image.open('C:/Users/HP USER/Desktop/courier1.jpg')\n",
    "image1 = ImageTk.PhotoImage(image2)\n",
    "w = image1.width()\n",
    "h = image1.height()\n",
    "master.geometry('%dx%d+0+0' % (w,h)) \n",
    "label1 = Label(master, image=image1)\n",
    "label1.pack()\n",
    "#back2\n",
    "Frame_login=Frame(master,bg='lightblue')\n",
    "Frame_login.place(x=100,y=150,height=400,width=400)\n",
    "image3=Image.open('C:/Users/HP USER/Desktop/courier.jpg')\n",
    "image4 = ImageTk.PhotoImage(image3)\n",
    "label= Label(Frame_login, image=image4)\n",
    "label.pack()\n",
    "#for next page\n",
    "def call_Next_Page():\n",
    "    master.destroy()\n",
    "    import signup\n",
    "#create variables for accesing Entry Boxes and Tables:\n",
    "RegistrationNo=StringVar()\n",
    "Password=StringVar()\n",
    "status=StringVar()\n",
    "#Creating label for instructing the user:\n",
    "Frame_login=Frame(master,bg='lightgray')\n",
    "Frame_login.place(x=600,y=150,height=400,width=500)\n",
    "Label(Frame_login,text='LOGIN HERE',bg='lightgray',font=(\"Impact\",20,'roman'),fg='red').place(x=150,y=25)\n",
    "Label(Frame_login,text='Registration Number',bg='lightgray',font=(\"Impact\",13,'roman'),fg='#2F4F4F').place(x=70,y=90)\n",
    "Label(Frame_login,text='Password:',bg='lightgray',font=(\"Impact\",13,'roman'),fg='#2F4F4F').place(x=70,y=170)\n",
    "Label(Frame_login,text='',textvariable=status).grid(row=3,column=8)\n",
    "#Creating Entry Boxes for Taking Input:\n",
    "Entry(Frame_login,bg='lightgray',font=(\"serif\",17,'bold'), textvariable=RegistrationNo).place(x=70,y=120)\n",
    "Entry(Frame_login,bg='gray',font=(\"serif\",17,'italic'), textvariable=Password).place(x=70,y=200)\n",
    "#Adding Button for Submitting Data:\n",
    "#columnspane decide how much column space is to be Given\n",
    "#ccc\n",
    "Label(Frame_login,text='New  User ?',bg='lightgray',font=(\"Impact\",13,'underline',),height='2',fg='#2F4F4F').place(x=70,y=270)\n",
    "Button(Frame_login,text='Sign Up',bg='pink',font=(\"Impact\",12,'roman'),command=call_Next_Page,fg='#2F4F4F').place(x=160,y=270,width=110)\n",
    "Button(Frame_login,text='lOG IN',bg='pink',font=(\"Impact\",10,'roman'),height='1',command=view,fg='#2F4F4F').place(x=100,y=340,width=110)\n",
    "mainloop()\n",
    "messagebox.showinfo(status)"
   ]
  },
  {
   "cell_type": "code",
   "execution_count": null,
   "metadata": {},
   "outputs": [],
   "source": []
  }
 ],
 "metadata": {
  "kernelspec": {
   "display_name": "Python 3",
   "language": "python",
   "name": "python3"
  },
  "language_info": {
   "codemirror_mode": {
    "name": "ipython",
    "version": 3
   },
   "file_extension": ".py",
   "mimetype": "text/x-python",
   "name": "python",
   "nbconvert_exporter": "python",
   "pygments_lexer": "ipython3",
   "version": "3.8.3"
  }
 },
 "nbformat": 4,
 "nbformat_minor": 4
}
