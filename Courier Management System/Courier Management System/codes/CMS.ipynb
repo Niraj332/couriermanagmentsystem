{
 "cells": [
  {
   "cell_type": "code",
   "execution_count": 1,
   "metadata": {},
   "outputs": [
    {
     "name": "stdout",
     "output_type": "stream",
     "text": [
      "<mysql.connector.connection_cext.CMySQLConnection object at 0x000001AF09889310>\n"
     ]
    }
   ],
   "source": [
    "import mysql.connector\n",
    "mydb=mysql.connector.connect(host = 'localhost',user='root',password='Shivam@2025')\n",
    "print(mydb)"
   ]
  },
  {
   "cell_type": "code",
   "execution_count": null,
   "metadata": {},
   "outputs": [],
   "source": [
    "import mysql.connector\n",
    "mycursor=mydb.cursor()\n",
    "mycursor.execute(\"CREATE DATABASE courier\")"
   ]
  },
  {
   "cell_type": "code",
   "execution_count": 2,
   "metadata": {},
   "outputs": [],
   "source": [
    "from tkinter import*\n",
    "from PIL import ImageTk\n",
    "import mysql.connector\n",
    "from tkinter import messagebox\n",
    "from PIL import ImageTk,Image\n",
    "mydb=mysql.connector.connect(host='localhost',user='root',password='Shivam@2025',database='courier')\n",
    "cur=mydb.cursor()\n",
    "root=Tk()\n",
    "root.title(\"Welcome to Courier Management System\")\n",
    "root.geometry(\"1199x600+100+50\")\n",
    "def go_to_next():\n",
    "    root.destroy()\n",
    "    import signup\n",
    "CMS=Frame(root,bg='lightgray')\n",
    "CMS.place(x=600,y=150,height=400,width=500)\n",
    "Label(CMS,text='CMS',font=(\"new times roman\",40,'bold'),bg=\"yellow\",fg='red').place(x=150,y=25)\n",
    "Button(CMS,text='Sign Up',bg='pink',font=(\"Impact\",12,'roman'),command=go_to_next).place(x=160,y=270,width=110)\n",
    "def go_to_the_next():\n",
    "    root.destroy()\n",
    "    import login\n",
    "Button(CMS,text='lOG IN',bg='pink',font=(\"Impact\",10,'roman'),height='1',command=go_to_the_next).place(x=100,y=340,width=110)\n",
    "def go_to_the_very_next():\n",
    "    root.destroy()\n",
    "    import Track\n",
    "Button(CMS,text='Track & Book',bg='pink',font=(\"Impact\",10,'roman'),height='1',command=go_to_next).place(x=70,y=200,width=110)\n",
    "root.mainloop()"
   ]
  },
  {
   "cell_type": "code",
   "execution_count": null,
   "metadata": {},
   "outputs": [],
   "source": []
  }
 ],
 "metadata": {
  "kernelspec": {
   "display_name": "Python 3",
   "language": "python",
   "name": "python3"
  },
  "language_info": {
   "codemirror_mode": {
    "name": "ipython",
    "version": 3
   },
   "file_extension": ".py",
   "mimetype": "text/x-python",
   "name": "python",
   "nbconvert_exporter": "python",
   "pygments_lexer": "ipython3",
   "version": "3.8.3"
  }
 },
 "nbformat": 4,
 "nbformat_minor": 4
}
