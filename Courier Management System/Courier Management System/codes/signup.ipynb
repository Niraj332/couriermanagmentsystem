{
 "cells": [
  {
   "cell_type": "code",
   "execution_count": 1,
   "metadata": {},
   "outputs": [
    {
     "data": {
      "text/plain": [
       "'ok'"
      ]
     },
     "execution_count": 1,
     "metadata": {},
     "output_type": "execute_result"
    }
   ],
   "source": [
    "from tkinter import*\n",
    "import mysql.connector\n",
    "from tkinter import messagebox\n",
    "from PIL import ImageTk,Image\n",
    "\n",
    "mydb=mysql.connector.connect(host='localhost',user='root',password='Shivam@2025',database='courier')\n",
    "#print(mydb.connection_id)\n",
    "cur=mydb.cursor()\n",
    "def insert():\n",
    "  if (Password.get()==\"\") and (RegistrationNo.get()==\"\")and(Password.get()==\"\")and(ConfirmPassword.get()==\"\")and RegistrationNo.get()==\"\":\n",
    "        messagebox.showinfo('Error','Many fields are Empty')\n",
    "  s=\"create table IF NOT EXISTS customer(Ename varchar(20),Lname varchar(30),RegistrationNo integer(20),PhoneNumber BIGINT,Password varchar(20),ConfirmPassword varchar(20))\"\n",
    "  cur.execute(s)\n",
    "  s2=\"insert into customer(Ename,Lname,RegistrationNo,PhoneNumber,Password,ConfirmPassword) values(%s,%s,%s,%s,%s,%s)\"\n",
    "  b=(Fname.get(),Lname.get(),RegistrationNo.get(),PhoneNumber.get(),Password.get(),ConfirmPassword.get())\n",
    "  cur.execute(s2,b)\n",
    "  messagebox.showinfo('WELCOME','Register Successfully')\n",
    "  mydb.commit()      \n",
    "#cREATING GUI\n",
    "master=Tk()\n",
    "#background image and tittle for full window\n",
    "master.title(\"Welcome\")\n",
    "image2 =Image.open('C:/Users/HP USER/Desktop/courier1.jpg')\n",
    "image1 = ImageTk.PhotoImage(image2)\n",
    "w = image1.width()\n",
    "h = image1.height()\n",
    "master.geometry('%dx%d+0+0' % (w,h)) \n",
    "label1 = Label(master, image=image1)\n",
    "label1.pack()\n",
    "#background image for small window\n",
    "Frame_login1=Frame(master,bg='lightblue')\n",
    "Frame_login1.place(x=100,y=150,height=400,width=400)\n",
    "image3=Image.open('C:/Users/HP USER/Desktop/courier.jpg')\n",
    "image4 = ImageTk.PhotoImage(image3)\n",
    "label= Label(Frame_login1, image=image4)\n",
    "label.pack()\n",
    "\n",
    "#create variables for accesing Entry Boxes and Tables:\n",
    "Fname=StringVar()\n",
    "Lname=StringVar()\n",
    "RegistrationNo=StringVar()\n",
    "PhoneNumber=IntVar()\n",
    "Password=StringVar()\n",
    "ConfirmPassword=StringVar()\n",
    "status=StringVar()\n",
    "#Creating label for instructing the user:\n",
    "#function for nextpage call\n",
    "def call():\n",
    "    master.destroy()\n",
    "    import login\n",
    "#frame for register\n",
    "Frame_login=Frame(master,bg='lightgray')\n",
    "Frame_login.place(x=600,y=150,height=400,width=700)\n",
    "Label(Frame_login,text='SIGN UP HERE:',bg='lightgray',font=(\"Impact\",20,'roman',),fg='red').place(x=220,y=35)\n",
    "Label(Frame_login,text='first Name:',bg='lightgray',font=(\"Impact\",12,'roman'),fg='#2F4F4F').place(x=70,y=80)\n",
    "Label(Frame_login,text='Last Name:',bg='lightgray',font=(\"Impact\",12,'roman'),fg='#2F4F4F').place(x=360,y=80)\n",
    "Label(Frame_login,text='RegistrationNo:',bg='lightgray',font=(\"Impact\",12,'roman'),fg='#2F4F4F').place(x=70,y=150)\n",
    "Label(Frame_login,text='Phone Number:',bg='lightgray',font=(\"Impact\",12,'roman'),fg='#2F4F4F').place(x=360,y=150)\n",
    "Label(Frame_login,text='Password:',bg='lightgray',font=(\"Impact\",12,'roman'),fg='#2F4F4F').place(x=70,y=230)\n",
    "Label(Frame_login,text='Confirm Password:',bg='lightgray',font=(\"Impact\",12,'roman'),fg='#2F4F4F').place(x=360,y=230)\n",
    "Label(Frame_login,text=status,textvariable=status).place(x=70,y=400)\n",
    "#create boxes for taking input\n",
    "a=Entry(Frame_login,bg='lightgray',font=(\"times new roman\",17,'roman'), textvariable=Fname).place(x=70,y=110)\n",
    "Entry(Frame_login,bg='lightgray',font=(\"times new roman\",17,'roman'), textvariable=Lname).place(x=360,y=110)\n",
    "Em=Entry(Frame_login,bg='gray',font=(\"times new roman\",16,'roman'), textvariable=RegistrationNo).place(x=70,y=190)\n",
    "Entry(Frame_login,bg='gray',font=(\"times new roman\",16,'roman'), textvariable=PhoneNumber).place(x=360,y=190)\n",
    "pas=Entry(Frame_login,bg='pink',font=(\"times new roman\",16,'roman'), textvariable=Password).place(x=70,y=260)\n",
    "Entry(Frame_login,bg='pink',font=(\"times new roman\",16,'roman'), textvariable=ConfirmPassword).place(x=360,y=260)\n",
    "#Adding Button for Submitting Data:\n",
    "#columnspane decide how much column space is to be Given\n",
    "#ccc\n",
    "Button(Frame_login1,text='LOgin',bg='#2F4F4F',font=(\"Impact\",10,'italic'),fg='#FF1493',command=call).place(x=200,y=330,width=110)\n",
    "but=Button(Frame_login,text='Submit',bg='#2F4F4F',font=(\"Impact\",10,'italic'),fg='#FF1493',command=insert).place(x=250,y=330,width=110)\n",
    "mainloop()\n",
    "messagebox.showinfo(status)"
   ]
  },
  {
   "cell_type": "code",
   "execution_count": null,
   "metadata": {},
   "outputs": [],
   "source": []
  }
 ],
 "metadata": {
  "kernelspec": {
   "display_name": "Python 3",
   "language": "python",
   "name": "python3"
  },
  "language_info": {
   "codemirror_mode": {
    "name": "ipython",
    "version": 3
   },
   "file_extension": ".py",
   "mimetype": "text/x-python",
   "name": "python",
   "nbconvert_exporter": "python",
   "pygments_lexer": "ipython3",
   "version": "3.8.3"
  }
 },
 "nbformat": 4,
 "nbformat_minor": 4
}
