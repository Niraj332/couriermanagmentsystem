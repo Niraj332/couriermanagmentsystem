{
 "cells": [
  {
   "cell_type": "code",
   "execution_count": 1,
   "metadata": {},
   "outputs": [
    {
     "name": "stderr",
     "output_type": "stream",
     "text": [
      "Exception in Tkinter callback\n",
      "Traceback (most recent call last):\n",
      "  File \"D:\\ProgramData\\Anaconda3\\lib\\tkinter\\__init__.py\", line 1883, in __call__\n",
      "    return self.func(*args)\n",
      "  File \"<ipython-input-1-cad2fd9229ac>\", line 29, in go_to_the_very_next\n",
      "    import Found\n",
      "ModuleNotFoundError: No module named 'Found'\n"
     ]
    }
   ],
   "source": [
    "from tkinter import*\n",
    "import mysql.connector\n",
    "from tkinter import messagebox\n",
    "from PIL import ImageTk,Image\n",
    "mydb=mysql.connector.connect(host='localhost',user='root',password='Shivam@2025',database='courier')\n",
    "cur=mydb.cursor()\n",
    "def show():\n",
    "  cur.execute(\"select * from customer where MobileNo=%s and ConsigmentNo=%s\",(MobileNo.get(),ConsigmentNo.get()))\n",
    "  row=cur.fetchone()\n",
    "  #print(row)\n",
    "  if row==None:\n",
    "      messagebox.showerror('error','please enter right mobile number and consigment number')\n",
    "  else:\n",
    "      messagebox.showinfo('Welcome','Consigment found at location X ')\n",
    "root=Tk()\n",
    "root.title(\"Welcome to Courier Management System\")\n",
    "\n",
    "image2 =Image.open('C:/Users/HP USER/Desktop/courierboy.jpg')\n",
    "image1 = ImageTk.PhotoImage(image2)\n",
    "w = image1.width()\n",
    "h = image1.height()\n",
    "root.geometry('%dx%d+0+0' % (w,h)) \n",
    "label1 = Label(root, image=image1)\n",
    "label1.pack()\n",
    "\n",
    "root.geometry(\"1199x600+100+50\")\n",
    "def go_to_the_very_next():\n",
    "    root.destroy()\n",
    "    import Found\n",
    "MobileNo=StringVar()\n",
    "ConsigmentNo=StringVar()\n",
    "Track=Frame(root,bg='lightgray')\n",
    "Track.place(x=100,y=150,height=400,width=800)\n",
    "Label(Track,text='Track Consigment',font=(\"new times roman\",40,'bold'),bg=\"yellow\",fg='red').place(x=150,y=25)\n",
    "Label(Track,text='Mobile Number',bg='lightgray',font=(\"Impact\",20,'roman'),fg='red').place(x=70,y=120)\n",
    "Label(Track,text='Consigment Number',bg='lightgray',font=(\"Impact\",13,'roman'),fg='#2F4F4F').place(x=70,y=170)\n",
    "Entry(Track,bg='lightgray',font=(\"serif\",17,'bold'), textvariable=MobileNo).place(x=250,y=120)\n",
    "Entry(Track,bg='gray',font=(\"serif\",17,'italic'), textvariable=ConsigmentNo).place(x=250,y=170)\n",
    "Button(Track,text='Submit',bg='lightgray',font=(\"Impact\",13,'underline',),height='2',command=go_to_the_very_next,fg='#2F4F4F').place(x=70,y=270,width=120)\n",
    "Button(Track,text='Check Next Consigment',bg='pink',font=(\"Impact\",13,'roman'),height='2',command=show,fg='#2F4F4F').place(x=205,y=270,width=200)\n",
    "root.mainloop()"
   ]
  },
  {
   "cell_type": "code",
   "execution_count": null,
   "metadata": {},
   "outputs": [],
   "source": []
  },
  {
   "cell_type": "code",
   "execution_count": null,
   "metadata": {},
   "outputs": [],
   "source": []
  }
 ],
 "metadata": {
  "kernelspec": {
   "display_name": "Python 3",
   "language": "python",
   "name": "python3"
  },
  "language_info": {
   "codemirror_mode": {
    "name": "ipython",
    "version": 3
   },
   "file_extension": ".py",
   "mimetype": "text/x-python",
   "name": "python",
   "nbconvert_exporter": "python",
   "pygments_lexer": "ipython3",
   "version": "3.8.3"
  }
 },
 "nbformat": 4,
 "nbformat_minor": 4
}
